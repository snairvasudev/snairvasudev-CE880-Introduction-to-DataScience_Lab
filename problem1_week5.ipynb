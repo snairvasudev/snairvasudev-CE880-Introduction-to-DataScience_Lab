{
  "cells": [
    {
      "cell_type": "markdown",
      "metadata": {
        "id": "V0IUVD4Kl9iK"
      },
      "source": [
        "Before you turn this problem in, make sure everything runs as expected. First, **restart the kernel** (in the menubar, select Kernel$\\rightarrow$Restart) and then **run all cells** (in the menubar, select Cell$\\rightarrow$Run All).\n",
        "\n",
        "Make sure you fill in any place that says `YOUR CODE HERE` or \"YOUR ANSWER HERE\", as well as your name and collaborators below:"
      ]
    },
    {
      "cell_type": "code",
      "execution_count": null,
      "metadata": {
        "id": "_gwhQEESl9iO"
      },
      "outputs": [],
      "source": [
        "NAME = \"Vasudev Subash Nair\"\n",
        "Registration Number = \"2100869\""
      ]
    },
    {
      "cell_type": "markdown",
      "metadata": {
        "id": "dvZi9OAql9iQ"
      },
      "source": [
        "---"
      ]
    },
    {
      "cell_type": "markdown",
      "metadata": {
        "id": "suruDMm9l9iS"
      },
      "source": [
        "---\n",
        "# Welcome to CE880\n",
        "### This is your week-5 : Problem notebook\n",
        "\n",
        "For this problem set, we'll be using the Jupyter notebook and please upload this notebook to [Google Colab](https://colab.research.google.com/). "
      ]
    },
    {
      "cell_type": "code",
      "execution_count": null,
      "metadata": {
        "id": "diQs_w-5l9iS"
      },
      "outputs": [],
      "source": [
        "# install sklearn package if you are using local computer and if you are using Google Coalb then skip this step\n",
        "!pip install -U scikit-learn\n",
        "import sys\n",
        "import warnings\n",
        "\n",
        "if not sys.warnoptions:\n",
        "    warnings.simplefilter(\"ignore\")"
      ]
    },
    {
      "cell_type": "markdown",
      "metadata": {
        "id": "4s89flgWl9iU"
      },
      "source": [
        "---\n",
        "## Question 1: \n",
        "We’re ready to split a larger dataset to solve a regression problem. You’ll use a well-known Boston house prices dataset, which is included in sklearn. This dataset has 506 samples, 13 input variables, and the house values as the output. We have loaded dataset for you and splited into training and test set. Write code to fit linear regression on training `input (x)` and training `output (y)` and print the training score using `model.score` function. "
      ]
    },
    {
      "cell_type": "code",
      "execution_count": 2,
      "metadata": {
        "colab": {
          "base_uri": "https://localhost:8080/"
        },
        "id": "kx3-xUa6l9iU",
        "outputId": "903d358f-6a1b-4af6-e01b-f7bd784232a5"
      },
      "outputs": [
        {
          "output_type": "stream",
          "name": "stderr",
          "text": [
            "/usr/local/lib/python3.7/dist-packages/sklearn/utils/deprecation.py:87: FutureWarning: Function load_boston is deprecated; `load_boston` is deprecated in 1.0 and will be removed in 1.2.\n",
            "\n",
            "    The Boston housing prices dataset has an ethical problem. You can refer to\n",
            "    the documentation of this function for further details.\n",
            "\n",
            "    The scikit-learn maintainers therefore strongly discourage the use of this\n",
            "    dataset unless the purpose of the code is to study and educate about\n",
            "    ethical issues in data science and machine learning.\n",
            "\n",
            "    In this special case, you can fetch the dataset from the original\n",
            "    source::\n",
            "\n",
            "        import pandas as pd\n",
            "        import numpy as np\n",
            "\n",
            "\n",
            "        data_url = \"http://lib.stat.cmu.edu/datasets/boston\"\n",
            "        raw_df = pd.read_csv(data_url, sep=\"\\s+\", skiprows=22, header=None)\n",
            "        data = np.hstack([raw_df.values[::2, :], raw_df.values[1::2, :2]])\n",
            "        target = raw_df.values[1::2, 2]\n",
            "\n",
            "    Alternative datasets include the California housing dataset (i.e.\n",
            "    :func:`~sklearn.datasets.fetch_california_housing`) and the Ames housing\n",
            "    dataset. You can load the datasets as follows::\n",
            "\n",
            "        from sklearn.datasets import fetch_california_housing\n",
            "        housing = fetch_california_housing()\n",
            "\n",
            "    for the California housing dataset and::\n",
            "\n",
            "        from sklearn.datasets import fetch_openml\n",
            "        housing = fetch_openml(name=\"house_prices\", as_frame=True)\n",
            "\n",
            "    for the Ames housing dataset.\n",
            "    \n",
            "  warnings.warn(msg, category=FutureWarning)\n"
          ]
        }
      ],
      "source": [
        "from sklearn.datasets import load_boston\n",
        "from sklearn.model_selection import train_test_split\n",
        "x, y = load_boston(return_X_y=True)\n",
        "x_train, x_test, y_train, y_test = train_test_split(x, y, test_size=0.4, random_state=0)"
      ]
    },
    {
      "cell_type": "code",
      "execution_count": 3,
      "metadata": {
        "deletable": false,
        "nbgrader": {
          "cell_type": "code",
          "checksum": "5190ff48d2032b50acf0b42b191b0f59",
          "grade": false,
          "grade_id": "my_regression_ans",
          "locked": false,
          "schema_version": 3,
          "solution": true,
          "task": false
        },
        "id": "BVcM59H-l9iV"
      },
      "outputs": [],
      "source": [
        "from sklearn.linear_model import LinearRegression\n",
        "\n",
        "def my_regression(x_train, y_train):\n",
        "    \"\"\"Write code to fit linear regression on training input (x) and training output (y) and \n",
        "    print the training score using model.score function. \"\"\"\n",
        "    model = LinearRegression()\n",
        "    model.fit(x_train, y_train)\n",
        "    score=model.score(x_train, y_train )\n",
        "    return score\n",
        "    raise NotImplementedError()"
      ]
    },
    {
      "cell_type": "code",
      "execution_count": 4,
      "metadata": {
        "deletable": false,
        "editable": false,
        "nbgrader": {
          "cell_type": "code",
          "checksum": "5369d1dd760f45131c3f0364ff6265db",
          "grade": true,
          "grade_id": "my_regression_test",
          "locked": true,
          "points": 2,
          "schema_version": 3,
          "solution": false,
          "task": false
        },
        "id": "TmI56eZ-l9iW"
      },
      "outputs": [],
      "source": [
        "# Check you solution by running this cell\n",
        "import math\n",
        "assert math.isclose(my_regression(x_train, y_train), 0.7668, rel_tol = 0.05)"
      ]
    },
    {
      "cell_type": "markdown",
      "metadata": {
        "id": "AET1XK8rl9iY"
      },
      "source": [
        "---\n",
        "## Question 2: \n",
        "\n",
        "Now, implement `RandomForestRegressor` on the same dataset and check the performance on the `test` dataset. Hint: Please read the question carefuly. "
      ]
    },
    {
      "cell_type": "code",
      "execution_count": 11,
      "metadata": {
        "deletable": false,
        "nbgrader": {
          "cell_type": "code",
          "checksum": "e673ec6c482ffe30ae2a312502ba89c7",
          "grade": false,
          "grade_id": "my_RMregression_ans",
          "locked": false,
          "schema_version": 3,
          "solution": true,
          "task": false
        },
        "id": "cqWHxq57l9iZ"
      },
      "outputs": [],
      "source": [
        "from sklearn.ensemble import RandomForestRegressor\n",
        "\n",
        "def my_RMregression(x_train, y_train, x_test, y_test):\n",
        "    \"\"\"Write code to fit RandomForestRegressor on training input (x) and training output (y) and \n",
        "    print the test score using model.score function. \"\"\"\n",
        "    rfr=RandomForestRegressor()\n",
        "    rfr.fit(x_train, y_train)\n",
        "    score = rfr.score(x_test, y_test)\n",
        "    return score  \n",
        "    raise NotImplementedError()"
      ]
    },
    {
      "cell_type": "code",
      "execution_count": 12,
      "metadata": {
        "deletable": false,
        "editable": false,
        "nbgrader": {
          "cell_type": "code",
          "checksum": "42acd3422a91a2bc5ad49de77f202e82",
          "grade": true,
          "grade_id": "my_RMregression_test",
          "locked": true,
          "points": 2,
          "schema_version": 3,
          "solution": false,
          "task": false
        },
        "id": "IgHFSDuDl9ia"
      },
      "outputs": [],
      "source": [
        "# Check you solution by running this cell\n",
        "import math\n",
        "assert math.isclose(my_RMregression(x_train, y_train, x_test, y_test), 0.8325, rel_tol = 0.05)"
      ]
    },
    {
      "cell_type": "markdown",
      "metadata": {
        "id": "1DZ7sibal9ia"
      },
      "source": [
        "---\n",
        "## Question 3: \n",
        "\n",
        "Write code to fit classificaiton model LogisticRegression on training `input (x)` and training `output (y)` and \n",
        "print the predicted (x) that is your same data on which you have trained your model "
      ]
    },
    {
      "cell_type": "code",
      "execution_count": 19,
      "metadata": {
        "deletable": false,
        "nbgrader": {
          "cell_type": "code",
          "checksum": "0cf0719d580aa0a91008825233608ad7",
          "grade": false,
          "grade_id": "my_classification_ans",
          "locked": false,
          "schema_version": 3,
          "solution": true,
          "task": false
        },
        "id": "WHqkzlMGl9ib"
      },
      "outputs": [],
      "source": [
        "\n",
        "import numpy as np\n",
        "from sklearn.linear_model import LogisticRegression\n",
        "from sklearn.metrics import classification_report, confusion_matrix\n",
        "x = np.arange(10).reshape(-1, 1)\n",
        "y = np.array([0, 0, 0, 0, 1, 1, 1, 1, 1, 1])\n",
        "\n",
        "def my_classification(x, y):\n",
        "    \"\"\"Write code to fit classificaiton model LogisticRegression on training input (x) and training output (y) and \n",
        "    print the predicted (x) that is your same data on which you have trained your model \"\"\"\n",
        "    lgr= LogisticRegression()\n",
        "    lgr.fit(x,y)\n",
        "    y_pred=lgr.predict(x)\n",
        "    print(y_pred)\n",
        "    return y_pred\n",
        "    raise NotImplementedError()\n",
        "\n"
      ]
    },
    {
      "cell_type": "code",
      "execution_count": 20,
      "metadata": {
        "deletable": false,
        "editable": false,
        "nbgrader": {
          "cell_type": "code",
          "checksum": "266f403781c657a911b97b6a121ff002",
          "grade": true,
          "grade_id": "my_classification_test",
          "locked": true,
          "points": 2,
          "schema_version": 3,
          "solution": false,
          "task": false
        },
        "colab": {
          "base_uri": "https://localhost:8080/"
        },
        "id": "86THJ2Tql9ib",
        "outputId": "7a2c5a26-bbc5-4994-9791-c59fb7cce1f5"
      },
      "outputs": [
        {
          "output_type": "stream",
          "name": "stdout",
          "text": [
            "[0 0 0 0 1 1 1 1 1 1]\n"
          ]
        }
      ],
      "source": [
        "# Check you solution by running this cell\n",
        "y_hat = my_classification(x, y)\n",
        "y_hat = y_hat.tolist()\n",
        "assert y_hat == [0, 0, 0, 0, 1, 1, 1, 1, 1, 1]"
      ]
    },
    {
      "cell_type": "code",
      "execution_count": null,
      "metadata": {
        "id": "izyHukScl9id"
      },
      "outputs": [],
      "source": [
        ""
      ]
    }
  ],
  "metadata": {
    "kernelspec": {
      "display_name": "Python 3",
      "language": "python",
      "name": "python3"
    },
    "language_info": {
      "codemirror_mode": {
        "name": "ipython",
        "version": 3
      },
      "file_extension": ".py",
      "mimetype": "text/x-python",
      "name": "python",
      "nbconvert_exporter": "python",
      "pygments_lexer": "ipython3",
      "version": "3.7.10"
    },
    "colab": {
      "name": "problem1.ipynb",
      "provenance": []
    }
  },
  "nbformat": 4,
  "nbformat_minor": 0
}