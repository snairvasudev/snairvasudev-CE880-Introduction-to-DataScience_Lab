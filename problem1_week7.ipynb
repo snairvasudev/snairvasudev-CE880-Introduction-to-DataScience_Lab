{
  "cells": [
    {
      "cell_type": "markdown",
      "metadata": {
        "id": "wzEiT6R-4mFm"
      },
      "source": [
        "Before you turn this problem in, make sure everything runs as expected. First, **restart the kernel** (in the menubar, select Kernel$\\rightarrow$Restart) and then **run all cells** (in the menubar, select Cell$\\rightarrow$Run All).\n",
        "\n",
        "Make sure you fill in any place that says `YOUR CODE HERE` or \"YOUR ANSWER HERE\", as well as your name and collaborators below:"
      ]
    },
    {
      "cell_type": "code",
      "execution_count": null,
      "metadata": {
        "id": "5KyoBPzt4mGD"
      },
      "outputs": [],
      "source": [
        "NAME = \"Vasudev Subash Nair\"\n",
        "Registration Number = \"2100869\""
      ]
    },
    {
      "cell_type": "markdown",
      "metadata": {
        "id": "OsW7Hm064mGI"
      },
      "source": [
        "---"
      ]
    },
    {
      "cell_type": "markdown",
      "metadata": {
        "id": "pwyNh6C24mGK"
      },
      "source": [
        "---\n",
        "# Welcome to CE880\n",
        "### This is your week-7 : Problem notebook\n",
        "\n",
        "For this problem set, we'll be using the Jupyter notebook and please upload this notebook to [Google Colab](https://colab.research.google.com/). "
      ]
    },
    {
      "cell_type": "markdown",
      "metadata": {
        "id": "jbk4Ja2Z4mGM"
      },
      "source": [
        "---\n",
        "## Question 1: \n",
        "\n",
        "#### Bootstrapping\n",
        "\n",
        "We are generating a random vector, which will be our population, whose law of distribution (expected to be the same as that of the population) is unknown. Write a function to pick a sample from our population and by applying the Bootstrapping procedure, where sample `size=300`: and `B=1000` number of re-sampling"
      ]
    },
    {
      "cell_type": "code",
      "execution_count": 11,
      "metadata": {
        "deletable": false,
        "nbgrader": {
          "cell_type": "code",
          "checksum": "005d99c1714e98b5079cbdc07c12a0b5",
          "grade": false,
          "grade_id": "my_bootstrapping_ans",
          "locked": false,
          "schema_version": 3,
          "solution": true,
          "task": false
        },
        "colab": {
          "base_uri": "https://localhost:8080/"
        },
        "id": "crhPfln54mGO",
        "outputId": "2cfc6cf4-09f2-4b6d-fe5c-20ca0aba4797"
      },
      "outputs": [
        {
          "output_type": "stream",
          "name": "stdout",
          "text": [
            "253.76\n"
          ]
        }
      ],
      "source": [
        "import numpy as np\n",
        "np.random.seed(123)\n",
        "pop = np.random.randint(0,500 , size=100)\n",
        "print(pop.mean()) # Print population mean\n",
        "sample = np.random.choice(pop, size=300) #so n=300\n",
        "\n",
        "def my_bootstrapping():\n",
        "    \"\"\"Write a function to pick a sample from our population and by applying the\n",
        "    Bootstrapping procedure, where sample size=300: and B=1000 number of re-sampling \"\"\"\n",
        "    for _ in range(1000):\n",
        "      x = np.random.choice(sample, size=300)\n",
        "    return x.mean()\n",
        "      \n",
        "    raise NotImplementedError()"
      ]
    },
    {
      "cell_type": "code",
      "execution_count": 12,
      "metadata": {
        "deletable": false,
        "editable": false,
        "nbgrader": {
          "cell_type": "code",
          "checksum": "a88c4bb109aa53b9b69cb81407e1697a",
          "grade": true,
          "grade_id": "my_bootstrapping_test",
          "locked": true,
          "points": 2,
          "schema_version": 3,
          "solution": false,
          "task": false
        },
        "id": "r5LAajRB4mGR"
      },
      "outputs": [],
      "source": [
        "# Check you solution by running this cell\n",
        "import math\n",
        "assert math.isclose(my_bootstrapping(), 253.241, rel_tol = 0.05)"
      ]
    },
    {
      "cell_type": "markdown",
      "metadata": {
        "id": "2dTX7llA4mGU"
      },
      "source": [
        "---\n",
        "## Question 2: \n",
        "\n",
        "#### Majority Voting\n",
        "Given a list = `[1,2,3,1,2,1,1,1,3,2,2,1]`. Write a function to find the majority voting."
      ]
    },
    {
      "cell_type": "code",
      "execution_count": 14,
      "metadata": {
        "deletable": false,
        "nbgrader": {
          "cell_type": "code",
          "checksum": "0ae329697ba80e727456a21d0886468f",
          "grade": false,
          "grade_id": "my_pairedttest_ans",
          "locked": false,
          "schema_version": 3,
          "solution": true,
          "task": false
        },
        "id": "xVsT2sFs4mGW"
      },
      "outputs": [],
      "source": [
        "# Example of the Paired Student's t-test\n",
        "a = np.array([1,2,3,1,2,1,1,1,3,2,2,1])\n",
        "\n",
        "def my_majorityvote():\n",
        "    \"\"\"Write a function to find the majority voting.\"\"\"\n",
        "    return np.bincount(a).argmax()\n",
        "    raise NotImplementedError()"
      ]
    },
    {
      "cell_type": "code",
      "execution_count": 15,
      "metadata": {
        "deletable": false,
        "editable": false,
        "nbgrader": {
          "cell_type": "code",
          "checksum": "539ec2b0b6d14bd7fdbc0d2ba86a2b84",
          "grade": true,
          "grade_id": "my_pairedttest_test",
          "locked": true,
          "points": 2,
          "schema_version": 3,
          "solution": false,
          "task": false
        },
        "id": "AAu0r4cN4mGa"
      },
      "outputs": [],
      "source": [
        "# Check you solution by running this cell\n",
        "import math\n",
        "assert math.isclose(my_majorityvote(), 1, rel_tol = 0.05)"
      ]
    },
    {
      "cell_type": "markdown",
      "metadata": {
        "id": "3Wy0qQmn4mGc"
      },
      "source": [
        "---\n",
        "## Question 3: \n",
        "\n",
        "#### Decision Tree\n",
        "USe the IRIS dataset from `sklearn` to build a decision tree classifier. The dataset contains information for three classes of the IRIS plant, namely IRIS Setosa, IRIS Versicolour, and IRIS Virginica, with the following attributes: sepal length, sepal width, petal length, and petal width. Your aim is to train a decision tree on training data and return the test accuracy."
      ]
    },
    {
      "cell_type": "code",
      "execution_count": 16,
      "metadata": {
        "deletable": false,
        "nbgrader": {
          "cell_type": "code",
          "checksum": "69192f23f1a94dcd4dd6b703633eccfc",
          "grade": false,
          "grade_id": "my_DTree_ans",
          "locked": false,
          "schema_version": 3,
          "solution": true,
          "task": false
        },
        "id": "z4Fa6bS-4mGh"
      },
      "outputs": [],
      "source": [
        "import pandas as pd\n",
        "import numpy as np\n",
        "from sklearn.datasets import load_iris\n",
        "from sklearn.metrics import accuracy_score\n",
        "from sklearn.tree import DecisionTreeClassifier\n",
        "\n",
        "# Reading the Iris.csv file\n",
        "data = load_iris()\n",
        "\n",
        "# Extracting Attributes / Features\n",
        "X = data.data\n",
        "\n",
        "# Extracting Target / Class Labels\n",
        "y = data.target\n",
        "\n",
        "# Import Library for splitting data\n",
        "from sklearn.model_selection import train_test_split\n",
        "\n",
        "# Creating Train and Test datasets\n",
        "X_train, X_test, y_train, y_test = train_test_split(X,y, random_state = 50, test_size = 0.25)\n",
        "\n",
        "def my_DTree():\n",
        "    \"\"\"Write code to to train a decision tree classifier and return the test accuracy\"\"\"\n",
        "    clf_gini = DecisionTreeClassifier(criterion='gini', max_depth=3, random_state=0)\n",
        "    clf_gini.fit(X_train, y_train)\n",
        "    y_pred_gini = clf_gini.predict(X_test)\n",
        "    return accuracy_score(y_test, y_pred_gini)\n",
        "    raise NotImplementedError()"
      ]
    },
    {
      "cell_type": "code",
      "execution_count": 17,
      "metadata": {
        "deletable": false,
        "editable": false,
        "nbgrader": {
          "cell_type": "code",
          "checksum": "e56689327ed8c774d916ab7440966ee7",
          "grade": true,
          "grade_id": "my_DTree_test",
          "locked": true,
          "points": 2,
          "schema_version": 3,
          "solution": false,
          "task": false
        },
        "id": "uAvbHGbj4mGl"
      },
      "outputs": [],
      "source": [
        "# Check you solution by running this cell\n",
        "import math\n",
        "assert math.isclose(my_DTree(), 0.94736, rel_tol = 0.05)"
      ]
    }
  ],
  "metadata": {
    "kernelspec": {
      "display_name": "Python 3",
      "language": "python",
      "name": "python3"
    },
    "language_info": {
      "codemirror_mode": {
        "name": "ipython",
        "version": 3
      },
      "file_extension": ".py",
      "mimetype": "text/x-python",
      "name": "python",
      "nbconvert_exporter": "python",
      "pygments_lexer": "ipython3",
      "version": "3.7.10"
    },
    "colab": {
      "name": "problem1.ipynb",
      "provenance": []
    }
  },
  "nbformat": 4,
  "nbformat_minor": 0
}