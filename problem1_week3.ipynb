{
  "cells": [
    {
      "cell_type": "markdown",
      "metadata": {
        "id": "cqT1oy_hOLDf"
      },
      "source": [
        "Before you turn this problem in, make sure everything runs as expected. First, **restart the kernel** (in the menubar, select Kernel$\\rightarrow$Restart) and then **run all cells** (in the menubar, select Cell$\\rightarrow$Run All).\n",
        "\n",
        "Make sure you fill in any place that says `YOUR CODE HERE` or \"YOUR ANSWER HERE\", as well as your name and collaborators below:"
      ]
    },
    {
      "cell_type": "code",
      "execution_count": null,
      "metadata": {
        "id": "Uzcgb_RIOLDi"
      },
      "outputs": [],
      "source": [
        "NAME = \"Vasudev Subash Nair\"\n",
        "Registration Number = \"2100869\""
      ]
    },
    {
      "cell_type": "markdown",
      "metadata": {
        "id": "i984SuE5OLDk"
      },
      "source": [
        "---"
      ]
    },
    {
      "cell_type": "markdown",
      "metadata": {
        "id": "2E9ePtKjOLDm"
      },
      "source": [
        "---\n",
        "# Welcome to CE880\n",
        "### This is your week-3 : Problem 1 notebook\n",
        "\n",
        "For this problem set, we'll be using the Jupyter notebook and please upload this notebook to [Google Colab](https://colab.research.google.com/). \n"
      ]
    },
    {
      "cell_type": "markdown",
      "metadata": {
        "id": "GT4YlDoLOLDn"
      },
      "source": [
        "---\n",
        "## Question 1:\n",
        "\n",
        "Write a function to calculate the median  \n",
        "`Hint`: To find the median, you first need to sort the values in your sample. The `median` of a sample of numeric data is the value that lies in the middle when we sort the data. The data may be sorted in ascending or descending order, the median remains the same."
      ]
    },
    {
      "cell_type": "code",
      "execution_count": 1,
      "metadata": {
        "deletable": false,
        "nbgrader": {
          "cell_type": "code",
          "checksum": "b555acd98fb05a491fc2efa720f3316c",
          "grade": false,
          "grade_id": "my_median_ans",
          "locked": false,
          "schema_version": 3,
          "solution": true
        },
        "id": "2GRLa3f-OLDo"
      },
      "outputs": [],
      "source": [
        "def my_median(sample):\n",
        "    \"\"\"Function for calculating median\"\"\"\n",
        "    sample.sort()\n",
        "    l=len(sample)\n",
        "    if l%2==0:\n",
        "      return ((sample[l//2-1]+sample[l//2])/2)\n",
        "    else:\n",
        "      return (sample[l//2])\n",
        "    raise NotImplementedError()"
      ]
    },
    {
      "cell_type": "code",
      "execution_count": 2,
      "metadata": {
        "colab": {
          "base_uri": "https://localhost:8080/"
        },
        "id": "sD8s5LQQOLDo",
        "outputId": "f911038f-39b7-40b9-a550-f18c5f0b51a5"
      },
      "outputs": [
        {
          "output_type": "execute_result",
          "data": {
            "text/plain": [
              "3.5"
            ]
          },
          "metadata": {},
          "execution_count": 2
        }
      ],
      "source": [
        "my_median([3, 5, 1, 4, 2, 6])"
      ]
    },
    {
      "cell_type": "code",
      "execution_count": 3,
      "metadata": {
        "deletable": false,
        "editable": false,
        "nbgrader": {
          "cell_type": "code",
          "checksum": "f5fecf0641463d6c695663cba9a12d95",
          "grade": true,
          "grade_id": "my_median_test",
          "locked": false,
          "points": 1,
          "schema_version": 3,
          "solution": false
        },
        "id": "UC7sGqvYOLDp"
      },
      "outputs": [],
      "source": [
        "\"\"\"Check your output\"\"\"\n",
        "# Test case 1\n",
        "assert my_median([3, 5, 1, 4, 2]) == 3\n",
        "assert my_median([1, 4, 2, 5, 0]) == 2\n",
        "assert my_median([1, 4, 2, 5, 0, 5, 6, 3, 5]) == 4\n",
        "assert my_median([3, 5, 1, 4, 2, 6]) == 3.5"
      ]
    },
    {
      "cell_type": "markdown",
      "metadata": {
        "id": "fRvT-2IQOLDq"
      },
      "source": [
        "---\n",
        "\n",
        "## Question 2:\n",
        "\n",
        "Caluate Interquartile Range of the given list.\n",
        "\n",
        "`Please read me before attemping the question`\n",
        "A quartile is a type of quantile. The first quartile `(Q1)`, is defined as the middle number between the smallest number and the median of the data set, the second quartile `(Q2)` – median of the given data set while the third quartile `(Q3)`, is the middle number between the median and the largest value of the data set.\n",
        "\n",
        "Algorithm to find Quartiles :\n",
        "Quartiles are calculated by the help of the median. If the number of entries is an even number i.e. of the form 2n, then, first quartile `(Q1)` is equal to the median of the `n` smallest entries and the third quartile `(Q3)` is equal to the median of the `n` largest entries.\n",
        "\n",
        "If the number of entries is an odd number i.e. of the form `(2n + 1)`, then\n",
        "\n",
        "* the first quartile (Q1) is equal to the median of the n smallest entries\n",
        "* the third quartile (Q3) is equal to the median of the n largest entries\n",
        "* the second quartile(Q2) is the same as the ordinary median.\n",
        "\n",
        "Example: \n",
        "input = [75, 69, 56, 46, 47, 79, 92, 97, 89, 88, 36, 96, 105, 32, 116, 101, 79, 93, 91, 112]\n",
        "After sorting the above data set:\n",
        "[32, 36, 46, 47, 56, 69, 75, 79, 79, 88, 89, 91, 92, 93, 96, 97, 101, 105, 112, 116]\n",
        "Here the total number of terms is 20.\n",
        "\n",
        "The second quartile `(Q2)` or the median of the above data is `(88 + 89) / 2 = 88.5`\n",
        "The first quartile `(Q1)` is median of first `n` i.e. 10 terms (or `n` i.e. 10 smallest values) = 62.5\n",
        "The third quartile `(Q3)` is the median of `n` i.e. 10 largest values (or last `n` i.e. 10 values) = 96.5\n",
        "Then, `IQR = Q3 – Q1 = 96.5 – 62.5 = 34.0`\n",
        "\n",
        "`hint`: Please explore `np.percentile` function"
      ]
    },
    {
      "cell_type": "code",
      "execution_count": 6,
      "metadata": {
        "deletable": false,
        "nbgrader": {
          "cell_type": "code",
          "checksum": "182defbf9f21094ccccd9e2b04d7db20",
          "grade": false,
          "grade_id": "myfibonacci_ans",
          "locked": false,
          "schema_version": 3,
          "solution": true
        },
        "id": "stfYJLYnOLDs"
      },
      "outputs": [],
      "source": [
        "import numpy as np\n",
        "def my_quartile(data):\n",
        "    \"\"\"Caluate Interquartile Range of the given list.\"\"\"\n",
        "    data.sort()\n",
        "    if len(data)%2==0:\n",
        "      return int(np.percentile(data,75)-np.percentile(data,25))\n",
        "    else:\n",
        "      return int(np.percentile(data,75)-np.percentile(data,25))\n",
        "    raise NotImplementedError()"
      ]
    },
    {
      "cell_type": "code",
      "execution_count": 7,
      "metadata": {
        "colab": {
          "base_uri": "https://localhost:8080/"
        },
        "id": "mhuO7gzEOLDt",
        "outputId": "ccdd886c-3afe-4740-9a82-28556cfcfbc4"
      },
      "outputs": [
        {
          "output_type": "execute_result",
          "data": {
            "text/plain": [
              "16"
            ]
          },
          "metadata": {},
          "execution_count": 7
        }
      ],
      "source": [
        "data = [13, 26, 26, 17, 16, 49, 37, 29, 40, 13, 12, 23, 0]\n",
        "my_quartile(data)"
      ]
    },
    {
      "cell_type": "code",
      "execution_count": 9,
      "metadata": {
        "deletable": false,
        "editable": false,
        "nbgrader": {
          "cell_type": "code",
          "checksum": "6d5d7cf50f71d0499ca8014ab20956a0",
          "grade": true,
          "grade_id": "myfibonacci_test",
          "locked": false,
          "points": 1,
          "schema_version": 3,
          "solution": false
        },
        "id": "uC7R4gppOLDu",
        "colab": {
          "base_uri": "https://localhost:8080/"
        },
        "outputId": "cb821c82-c5e1-4a63-e0fd-00a879a8ecf4"
      },
      "outputs": [
        {
          "output_type": "stream",
          "name": "stdout",
          "text": [
            "30\n"
          ]
        }
      ],
      "source": [
        "\"\"\"Check that correct answers here\"\"\"\n",
        "data = [32, 36, 46, 47, 56, 69, 75, 79, 79, 88, 89, 91, 92, 93, 96, 97, \n",
        "        101, 105, 112, 116]\n",
        "assert my_quartile(data) == 30\n",
        "\n",
        "data = [3, 6, 6, 7, 6, 9, 17, 19, 10, 11, 22, 13, 5]\n",
        "assert my_quartile(data) == 7\n",
        "\n",
        "data = [13, 26, 26, 17, 16, 49, 37, 29, 40, 13, 12, 23, 0]\n",
        "assert my_quartile(data) == 16"
      ]
    },
    {
      "cell_type": "markdown",
      "metadata": {
        "id": "jILOyfD3OLDv"
      },
      "source": [
        "---\n",
        "## Question 3: \n",
        "\n",
        "Write a program to calculate the `standard deviation` of a dataset. Please create a function that first calculate the variance and calculate `standard deviation`. Please do not use inbuilt `numpy.var` and `numpy.std` functions. Write your own codes. "
      ]
    },
    {
      "cell_type": "code",
      "execution_count": null,
      "metadata": {
        "deletable": false,
        "nbgrader": {
          "cell_type": "code",
          "checksum": "16d7e10bb8c7d71e03823d5a3999c715",
          "grade": false,
          "grade_id": "my_std_ans",
          "locked": false,
          "schema_version": 3,
          "solution": true,
          "task": false
        },
        "id": "sqXuAxAJOLDw"
      },
      "outputs": [],
      "source": [
        "import math\n",
        "\n",
        "def my_std(data, ddof=0):\n",
        "    \"\"\"Write a program to calculate the standard deviation of a dataset.\"\"\"\n",
        "    m=sum(data)/len(data)\n",
        "    pwr=[]\n",
        "    for i in range(len(data)):\n",
        "      pwr.append(math.pow((m-data[i]),2))\n",
        "    v=sum(pwr)/len(pwr)\n",
        "    sd=math.sqrt(v)\n",
        "    return sd\n",
        "    raise NotImplementedError()"
      ]
    },
    {
      "cell_type": "code",
      "execution_count": null,
      "metadata": {
        "colab": {
          "base_uri": "https://localhost:8080/"
        },
        "id": "vIHUXBueOLDw",
        "outputId": "332bb303-a3a6-4f24-bcba-f63219ce1fd6"
      },
      "outputs": [
        {
          "output_type": "execute_result",
          "data": {
            "text/plain": [
              "2.4"
            ]
          },
          "metadata": {},
          "execution_count": 32
        }
      ],
      "source": [
        "data = [4, 8, 6, 5, 3, 2, 8, 9, 2, 5]\n",
        "my_std(data)"
      ]
    },
    {
      "cell_type": "code",
      "execution_count": null,
      "metadata": {
        "deletable": false,
        "editable": false,
        "nbgrader": {
          "cell_type": "code",
          "checksum": "ceb3eca968f9a24590055276dafc7fb0",
          "grade": true,
          "grade_id": "my_std_test",
          "locked": true,
          "points": 1,
          "schema_version": 3,
          "solution": false,
          "task": false
        },
        "id": "NIJeFyklOLDw"
      },
      "outputs": [],
      "source": [
        "\"\"\"Test you solution\"\"\"\n",
        "# Test Case 1\n",
        "data = [4, 8, 6, 5, 3, 2, 8, 9, 2, 5]\n",
        "assert my_std(data) == 2.4\n",
        "\n",
        "data = [24, 18, 26, 15, 13, 10, 11, 4, 4, 1]\n",
        "assert math.isclose(my_std(data), 7.97, rel_tol=0.05)\n",
        "\n",
        "data = [14, 18, 16, 15, 13, 12, 18, 19, 12, 15]\n",
        "assert math.isclose(my_std(data), 2.4, rel_tol=0.05)"
      ]
    }
  ],
  "metadata": {
    "kernelspec": {
      "display_name": "Python 3",
      "language": "python",
      "name": "python3"
    },
    "language_info": {
      "codemirror_mode": {
        "name": "ipython",
        "version": 3
      },
      "file_extension": ".py",
      "mimetype": "text/x-python",
      "name": "python",
      "nbconvert_exporter": "python",
      "pygments_lexer": "ipython3",
      "version": "3.7.3"
    },
    "colab": {
      "name": "problem1.ipynb",
      "provenance": []
    }
  },
  "nbformat": 4,
  "nbformat_minor": 0
}