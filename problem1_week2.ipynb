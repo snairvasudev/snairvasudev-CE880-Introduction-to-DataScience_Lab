{
  "nbformat": 4,
  "nbformat_minor": 0,
  "metadata": {
    "celltoolbar": "Create Assignment",
    "kernelspec": {
      "display_name": "Python 3",
      "language": "python",
      "name": "python3"
    },
    "language_info": {
      "codemirror_mode": {
        "name": "ipython",
        "version": 3
      },
      "file_extension": ".py",
      "mimetype": "text/x-python",
      "name": "python",
      "nbconvert_exporter": "python",
      "pygments_lexer": "ipython3",
      "version": "3.7.10"
    },
    "colab": {
      "name": "problem1.ipynb",
      "provenance": [],
      "collapsed_sections": []
    }
  },
  "cells": [
    {
      "cell_type": "markdown",
      "metadata": {
        "id": "A7WEGkJEgJAc"
      },
      "source": [
        "---\n",
        "# Welcome to CE880\n",
        "### This is your week-2 : Problem 1 notebook\n",
        "\n",
        "For this problem set, we'll be using the Jupyter notebook and please upload this notebook to [Google Colab](https://colab.research.google.com/). \n",
        "\n",
        "Name: Vasudev Subash Nair\n",
        "\n",
        "Registration Number: 2100869"
      ]
    },
    {
      "cell_type": "markdown",
      "metadata": {
        "id": "Bm1y_H6UgJAe"
      },
      "source": [
        "---\n",
        "## Question 1:\n",
        "\n",
        "Write a function to replace all odd numbers in the given array with -7. \n",
        "`Hint`: take input as list and inside the function covert it into numpy array then perform the function. Your output should be a list so don't forget to convert numpy array to list"
      ]
    },
    {
      "cell_type": "code",
      "metadata": {
        "nbgrader": {
          "grade": false,
          "grade_id": "replaceOdd_ans",
          "locked": false,
          "schema_version": 3,
          "solution": true
        },
        "id": "nBrnj1jAgJAf"
      },
      "source": [
        "import numpy as np\n",
        "def replaceOdd(mylist):\n",
        "    \"\"\"Replace all odd numbers in the given array with -7. Input list\"\"\"\n",
        "    \n",
        "    ### BEGIN SOLUTION\n",
        "    exercise_1 = np.array(mylist)\n",
        "    exercise_1[exercise_1 % 2 == 1] = -7\n",
        "    exercise_1 = exercise_1.tolist()\n",
        "    return exercise_1\n",
        "    ### END SOLUTION"
      ],
      "execution_count": null,
      "outputs": []
    },
    {
      "cell_type": "code",
      "metadata": {
        "id": "qehpp0YUgJAg",
        "outputId": "100ceb52-d6b3-4960-b91c-36437a99c58b"
      },
      "source": [
        "mylist = [-7, -6, -5, 0, 10, 5, 3, 6, 7, 9]\n",
        "replaceOdd(mylist)"
      ],
      "execution_count": null,
      "outputs": [
        {
          "data": {
            "text/plain": [
              "[-7, -6, -7, 0, 10, -7, -7, 6, -7, -7]"
            ]
          },
          "execution_count": 66,
          "metadata": {},
          "output_type": "execute_result"
        }
      ]
    },
    {
      "cell_type": "code",
      "metadata": {
        "nbgrader": {
          "grade": true,
          "grade_id": "replaceOdd_test",
          "locked": false,
          "points": 1,
          "schema_version": 3,
          "solution": false
        },
        "id": "ShUZXTLagJAg"
      },
      "source": [
        "\"\"\"Check that squares returns the correct output for several inputs\"\"\"\n",
        "# Test case 1\n",
        "mylist = [0, 1, 2, 3, 4, 5, 6, 7, 8, 9]\n",
        "assert replaceOdd(mylist) == [ 0, -7,  2, -7,  4, -7,  6, -7,  8, -7]\n",
        "\n",
        "# Test case 2\n",
        "mylist = [10, 11, 12, 13, 14, 15, 16, 17, 18, 19]\n",
        "assert replaceOdd(mylist) == [10, -7, 12, -7, 14, -7, 16, -7, 18, -7]\n",
        "\n",
        "# Test case 3\n",
        "mylist = [-7, -6, -5, 0, 100, 5, 6, 6, 18, 19]\n",
        "assert replaceOdd(mylist) == [-7, -6, -7, 0, 100, -7, 6, 6, 18, -7]\n"
      ],
      "execution_count": null,
      "outputs": []
    },
    {
      "cell_type": "markdown",
      "metadata": {
        "id": "wfHqCzG7gJAh"
      },
      "source": [
        "---\n",
        "\n",
        "## Question 2:\n",
        "\n",
        "Write a program, which accept list of range `n` and print all values except the first and last.\n",
        "`Hint`: Please don't use numpy here\n",
        "`Example` : input `n = 4` and list will be created `[0, 1, 2, 3]` and output should be: `[1, 2]`"
      ]
    },
    {
      "cell_type": "code",
      "metadata": {
        "nbgrader": {
          "grade": false,
          "grade_id": "rmv_values_ans",
          "locked": false,
          "schema_version": 3,
          "solution": true
        },
        "id": "DUh3WaQggJAi"
      },
      "source": [
        "def rmv_values(n):\n",
        "    \"\"\"accept list of range `n` and print all values except the first and last.\"\"\"\n",
        "    ### BEGIN SOLUTION\n",
        "    arr1 = list(range(n))\n",
        "#     print(arr1)\n",
        "    result = arr1[1:-1]\n",
        "    return result\n",
        "    ### END SOLUTION"
      ],
      "execution_count": null,
      "outputs": []
    },
    {
      "cell_type": "code",
      "metadata": {
        "id": "pGIZSOc2gJAi",
        "outputId": "d3fe2a43-5540-4fd1-a0f1-cf1f3478095f"
      },
      "source": [
        "rmv_values(4)"
      ],
      "execution_count": null,
      "outputs": [
        {
          "data": {
            "text/plain": [
              "[1, 2]"
            ]
          },
          "execution_count": 69,
          "metadata": {},
          "output_type": "execute_result"
        }
      ]
    },
    {
      "cell_type": "code",
      "metadata": {
        "nbgrader": {
          "grade": true,
          "grade_id": "rmv_values_test",
          "locked": false,
          "points": 1,
          "schema_version": 3,
          "solution": false
        },
        "id": "67k-LtoxgJAj"
      },
      "source": [
        "\"\"\"Check that areaofTrap returns the correct answer for various inputs.\"\"\"\n",
        "assert rmv_values(3) == [1]\n",
        "assert rmv_values(7) == [1, 2, 3, 4, 5]\n",
        "assert rmv_values(8) == [1, 2, 3, 4, 5, 6]\n",
        "assert rmv_values(0) == []"
      ],
      "execution_count": null,
      "outputs": []
    },
    {
      "cell_type": "markdown",
      "metadata": {
        "id": "4SW75XMAgJAj"
      },
      "source": [
        "---\n",
        "## Question 3: \n",
        "\n",
        " Write a program, which accept 2D array with `nan` and replace all `nan` with `0`.  "
      ]
    },
    {
      "cell_type": "code",
      "metadata": {
        "nbgrader": {
          "grade": false,
          "grade_id": "remNan_ans",
          "locked": false,
          "schema_version": 3,
          "solution": true,
          "task": false
        },
        "id": "cQQ_tDPcgJAk"
      },
      "source": [
        "import numpy as no\n",
        "def rem_Nan(A):\n",
        "    \"\"\"Write your code here to reverse the string\"\"\"\n",
        "    \n",
        "    ### BEGIN SOLUTION\n",
        "    A[np.isnan(A)] = 0\n",
        "    return A\n",
        "    ### END SOLUTION"
      ],
      "execution_count": null,
      "outputs": []
    },
    {
      "cell_type": "code",
      "metadata": {
        "colab": {
          "base_uri": "https://localhost:8080/",
          "height": 217
        },
        "id": "TfhtF5GVgJAk",
        "outputId": "2f88348b-dcb5-4a9a-8f58-aaa47534c414"
      },
      "source": [
        "arr1 = np.array([[1,2,3],[3,np.nan,3]])\n",
        "arr2 = np.array([[1,2,3],[3,0,3]])\n",
        "\n",
        "assert np.allclose(rem_Nan(arr1), arr2)"
      ],
      "execution_count": null,
      "outputs": [
        {
          "output_type": "error",
          "ename": "NameError",
          "evalue": "ignored",
          "traceback": [
            "\u001b[0;31m---------------------------------------------------------------------------\u001b[0m",
            "\u001b[0;31mNameError\u001b[0m                                 Traceback (most recent call last)",
            "\u001b[0;32m<ipython-input-4-78c93215d52f>\u001b[0m in \u001b[0;36m<module>\u001b[0;34m()\u001b[0m\n\u001b[0;32m----> 1\u001b[0;31m \u001b[0marr1\u001b[0m \u001b[0;34m=\u001b[0m \u001b[0mnp\u001b[0m\u001b[0;34m.\u001b[0m\u001b[0marray\u001b[0m\u001b[0;34m(\u001b[0m\u001b[0;34m[\u001b[0m\u001b[0;34m[\u001b[0m\u001b[0;36m1\u001b[0m\u001b[0;34m,\u001b[0m\u001b[0;36m2\u001b[0m\u001b[0;34m,\u001b[0m\u001b[0;36m3\u001b[0m\u001b[0;34m]\u001b[0m\u001b[0;34m,\u001b[0m\u001b[0;34m[\u001b[0m\u001b[0;36m3\u001b[0m\u001b[0;34m,\u001b[0m\u001b[0mnp\u001b[0m\u001b[0;34m.\u001b[0m\u001b[0mnan\u001b[0m\u001b[0;34m,\u001b[0m\u001b[0;36m3\u001b[0m\u001b[0;34m]\u001b[0m\u001b[0;34m]\u001b[0m\u001b[0;34m)\u001b[0m\u001b[0;34m\u001b[0m\u001b[0;34m\u001b[0m\u001b[0m\n\u001b[0m\u001b[1;32m      2\u001b[0m \u001b[0marr2\u001b[0m \u001b[0;34m=\u001b[0m \u001b[0mnp\u001b[0m\u001b[0;34m.\u001b[0m\u001b[0marray\u001b[0m\u001b[0;34m(\u001b[0m\u001b[0;34m[\u001b[0m\u001b[0;34m[\u001b[0m\u001b[0;36m1\u001b[0m\u001b[0;34m,\u001b[0m\u001b[0;36m2\u001b[0m\u001b[0;34m,\u001b[0m\u001b[0;36m3\u001b[0m\u001b[0;34m]\u001b[0m\u001b[0;34m,\u001b[0m\u001b[0;34m[\u001b[0m\u001b[0;36m3\u001b[0m\u001b[0;34m,\u001b[0m\u001b[0;36m0\u001b[0m\u001b[0;34m,\u001b[0m\u001b[0;36m3\u001b[0m\u001b[0;34m]\u001b[0m\u001b[0;34m]\u001b[0m\u001b[0;34m)\u001b[0m\u001b[0;34m\u001b[0m\u001b[0;34m\u001b[0m\u001b[0m\n\u001b[1;32m      3\u001b[0m \u001b[0;34m\u001b[0m\u001b[0m\n\u001b[1;32m      4\u001b[0m \u001b[0;32massert\u001b[0m \u001b[0mnp\u001b[0m\u001b[0;34m.\u001b[0m\u001b[0mallclose\u001b[0m\u001b[0;34m(\u001b[0m\u001b[0mrem_Nan\u001b[0m\u001b[0;34m(\u001b[0m\u001b[0marr1\u001b[0m\u001b[0;34m)\u001b[0m\u001b[0;34m,\u001b[0m \u001b[0marr2\u001b[0m\u001b[0;34m)\u001b[0m\u001b[0;34m\u001b[0m\u001b[0;34m\u001b[0m\u001b[0m\n",
            "\u001b[0;31mNameError\u001b[0m: name 'np' is not defined"
          ]
        }
      ]
    },
    {
      "cell_type": "code",
      "metadata": {
        "nbgrader": {
          "grade": true,
          "grade_id": "remNan_test",
          "locked": true,
          "points": 1,
          "schema_version": 3,
          "solution": false,
          "task": false
        },
        "id": "YtcP9WfYgJAk"
      },
      "source": [
        "\"\"\"Check that areaofTrap returns the correct answer for various inputs.\"\"\"\n",
        "# Test Case 1\n",
        "arr1 = np.array([[1,2,3],[3,np.nan,3]])\n",
        "arr2 = np.array([[1,2,3],[3,0,3]])\n",
        "assert np.allclose(rem_Nan(arr1), arr2)\n",
        "\n",
        "# Test Case 2\n",
        "arr3 = np.array([[np.nan,2,np.nan],[3,np.nan,3]])\n",
        "arr4 = np.array([[0,2,0],[3,0,3]])\n",
        "assert np.allclose(rem_Nan(arr3), arr4)"
      ],
      "execution_count": null,
      "outputs": []
    },
    {
      "cell_type": "code",
      "metadata": {
        "id": "4BTjduBMgJAk"
      },
      "source": [
        ""
      ],
      "execution_count": null,
      "outputs": []
    }
  ]
}